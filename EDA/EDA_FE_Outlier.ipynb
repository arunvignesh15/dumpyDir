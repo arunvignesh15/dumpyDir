{
 "cells": [
  {
   "cell_type": "markdown",
   "metadata": {},
   "source": [
    "#### Which Machine Learning models are sensitive to outliers?\n",
    "\n",
    "* Naivye Bayes Classifier -------\n",
    "* SVM\n",
    "* Linear Regression\n",
    "* Logistic Regression\n",
    "* Decision Tree Regressor or classifier\n",
    "* Ensemble(RF,XGboost,GB)\n",
    "* KNN\n",
    "* KMeans\n",
    "* Hierarichal\n",
    "* PCA\n",
    "* Neural Networks"
   ]
  },
  {
   "cell_type": "markdown",
   "metadata": {},
   "source": []
  }
 ],
 "metadata": {
  "language_info": {
   "name": "python"
  },
  "orig_nbformat": 4
 },
 "nbformat": 4,
 "nbformat_minor": 2
}
